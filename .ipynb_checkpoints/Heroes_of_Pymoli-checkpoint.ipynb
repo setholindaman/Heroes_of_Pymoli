{
 "cells": [
  {
   "cell_type": "code",
   "execution_count": 52,
   "metadata": {},
   "outputs": [
    {
     "data": {
      "text/html": [
       "<div>\n",
       "<style scoped>\n",
       "    .dataframe tbody tr th:only-of-type {\n",
       "        vertical-align: middle;\n",
       "    }\n",
       "\n",
       "    .dataframe tbody tr th {\n",
       "        vertical-align: top;\n",
       "    }\n",
       "\n",
       "    .dataframe thead th {\n",
       "        text-align: right;\n",
       "    }\n",
       "</style>\n",
       "<table border=\"1\" class=\"dataframe\">\n",
       "  <thead>\n",
       "    <tr style=\"text-align: right;\">\n",
       "      <th></th>\n",
       "      <th>purchase_id</th>\n",
       "      <th>sn</th>\n",
       "      <th>age</th>\n",
       "      <th>gender</th>\n",
       "      <th>item_id</th>\n",
       "      <th>item_name</th>\n",
       "      <th>price</th>\n",
       "    </tr>\n",
       "  </thead>\n",
       "  <tbody>\n",
       "    <tr>\n",
       "      <th>0</th>\n",
       "      <td>0</td>\n",
       "      <td>Lisim78</td>\n",
       "      <td>20</td>\n",
       "      <td>Male</td>\n",
       "      <td>108</td>\n",
       "      <td>Extraction, Quickblade Of Trembling Hands</td>\n",
       "      <td>3.53</td>\n",
       "    </tr>\n",
       "    <tr>\n",
       "      <th>1</th>\n",
       "      <td>1</td>\n",
       "      <td>Lisovynya38</td>\n",
       "      <td>40</td>\n",
       "      <td>Male</td>\n",
       "      <td>143</td>\n",
       "      <td>Frenzied Scimitar</td>\n",
       "      <td>1.56</td>\n",
       "    </tr>\n",
       "    <tr>\n",
       "      <th>2</th>\n",
       "      <td>2</td>\n",
       "      <td>Ithergue48</td>\n",
       "      <td>24</td>\n",
       "      <td>Male</td>\n",
       "      <td>92</td>\n",
       "      <td>Final Critic</td>\n",
       "      <td>4.88</td>\n",
       "    </tr>\n",
       "    <tr>\n",
       "      <th>3</th>\n",
       "      <td>3</td>\n",
       "      <td>Chamassasya86</td>\n",
       "      <td>24</td>\n",
       "      <td>Male</td>\n",
       "      <td>100</td>\n",
       "      <td>Blindscythe</td>\n",
       "      <td>3.27</td>\n",
       "    </tr>\n",
       "    <tr>\n",
       "      <th>4</th>\n",
       "      <td>4</td>\n",
       "      <td>Iskosia90</td>\n",
       "      <td>23</td>\n",
       "      <td>Male</td>\n",
       "      <td>131</td>\n",
       "      <td>Fury</td>\n",
       "      <td>1.44</td>\n",
       "    </tr>\n",
       "  </tbody>\n",
       "</table>\n",
       "</div>"
      ],
      "text/plain": [
       "   purchase_id             sn  age gender  item_id  \\\n",
       "0            0        Lisim78   20   Male      108   \n",
       "1            1    Lisovynya38   40   Male      143   \n",
       "2            2     Ithergue48   24   Male       92   \n",
       "3            3  Chamassasya86   24   Male      100   \n",
       "4            4      Iskosia90   23   Male      131   \n",
       "\n",
       "                                   item_name  price  \n",
       "0  Extraction, Quickblade Of Trembling Hands   3.53  \n",
       "1                          Frenzied Scimitar   1.56  \n",
       "2                               Final Critic   4.88  \n",
       "3                                Blindscythe   3.27  \n",
       "4                                       Fury   1.44  "
      ]
     },
     "execution_count": 52,
     "metadata": {},
     "output_type": "execute_result"
    }
   ],
   "source": [
    "# dependencies and set-up\n",
    "import pandas as pd\n",
    "import numpy as np\n",
    "\n",
    "hop_file = ('Resources/purchase_data.csv')\n",
    "purchase_data = pd.read_csv(hop_file)\n",
    "\n",
    "# Make column names easier to use\n",
    "purchase_data.columns = [col.lower().replace(' ','_') for col in purchase_data.columns]\n",
    "purchase_data.head()"
   ]
  },
  {
   "cell_type": "markdown",
   "metadata": {},
   "source": [
    "## Player Count\n",
    "* Display the number of players"
   ]
  },
  {
   "cell_type": "code",
   "execution_count": 32,
   "metadata": {},
   "outputs": [
    {
     "data": {
      "text/html": [
       "<div>\n",
       "<style scoped>\n",
       "    .dataframe tbody tr th:only-of-type {\n",
       "        vertical-align: middle;\n",
       "    }\n",
       "\n",
       "    .dataframe tbody tr th {\n",
       "        vertical-align: top;\n",
       "    }\n",
       "\n",
       "    .dataframe thead th {\n",
       "        text-align: right;\n",
       "    }\n",
       "</style>\n",
       "<table border=\"1\" class=\"dataframe\">\n",
       "  <thead>\n",
       "    <tr style=\"text-align: right;\">\n",
       "      <th></th>\n",
       "      <th>total_players</th>\n",
       "    </tr>\n",
       "  </thead>\n",
       "  <tbody>\n",
       "    <tr>\n",
       "      <th>0</th>\n",
       "      <td>576</td>\n",
       "    </tr>\n",
       "  </tbody>\n",
       "</table>\n",
       "</div>"
      ],
      "text/plain": [
       "   total_players\n",
       "0            576"
      ]
     },
     "execution_count": 32,
     "metadata": {},
     "output_type": "execute_result"
    }
   ],
   "source": [
    "number_of_players = len((purchase_data['sn']).unique())\n",
    "\n",
    "total_players_df = pd.DataFrame({'total_players':[number_of_players]})\n",
    "total_players_df"
   ]
  },
  {
   "cell_type": "markdown",
   "metadata": {},
   "source": [
    "## Purchasing Analysis (Total)\n",
    " \n",
    "* Run basic calculations to obtain number of unique items, average price, etc.\n",
    "\n",
    "* Create a summary data frame to hold the results\n",
    "\n",
    "* Display the summary data frame"
   ]
  },
  {
   "cell_type": "code",
   "execution_count": 34,
   "metadata": {},
   "outputs": [],
   "source": [
    "unique_items = len((purchase_data['item_id']).unique())\n",
    "\n",
    "average_price = purchase_data['price'].mean()\n",
    "\n",
    "number_of_purchases = purchase_data['purchase_id'].count()\n",
    "\n",
    "total_revenue = purchase_data['price'].sum()"
   ]
  },
  {
   "cell_type": "code",
   "execution_count": 35,
   "metadata": {},
   "outputs": [],
   "source": [
    "#create dataframe\n",
    "summary_df = pd.DataFrame({\n",
    "    'Unique Items': [unique_items],\n",
    "    'Average Price': [average_price],\n",
    "    'Purchases': [number_of_purchases],\n",
    "    'Total Revenue': [total_revenue]\n",
    "})"
   ]
  },
  {
   "cell_type": "code",
   "execution_count": 36,
   "metadata": {},
   "outputs": [
    {
     "data": {
      "text/html": [
       "<div>\n",
       "<style scoped>\n",
       "    .dataframe tbody tr th:only-of-type {\n",
       "        vertical-align: middle;\n",
       "    }\n",
       "\n",
       "    .dataframe tbody tr th {\n",
       "        vertical-align: top;\n",
       "    }\n",
       "\n",
       "    .dataframe thead th {\n",
       "        text-align: right;\n",
       "    }\n",
       "</style>\n",
       "<table border=\"1\" class=\"dataframe\">\n",
       "  <thead>\n",
       "    <tr style=\"text-align: right;\">\n",
       "      <th></th>\n",
       "      <th>Unique Items</th>\n",
       "      <th>Average Price</th>\n",
       "      <th>Purchases</th>\n",
       "      <th>Total Revenue</th>\n",
       "    </tr>\n",
       "  </thead>\n",
       "  <tbody>\n",
       "    <tr>\n",
       "      <th>0</th>\n",
       "      <td>183</td>\n",
       "      <td>$3.05</td>\n",
       "      <td>780</td>\n",
       "      <td>$2,379.77</td>\n",
       "    </tr>\n",
       "  </tbody>\n",
       "</table>\n",
       "</div>"
      ],
      "text/plain": [
       "   Unique Items Average Price  Purchases Total Revenue\n",
       "0           183         $3.05        780     $2,379.77"
      ]
     },
     "execution_count": 36,
     "metadata": {},
     "output_type": "execute_result"
    }
   ],
   "source": [
    "#format dataframe\n",
    "summary_df['Average Price'] = summary_df['Average Price'].map('${:.2f}'.format)\n",
    "summary_df['Total Revenue'] = summary_df['Total Revenue'].map('${:,.2f}'.format)\n",
    "summary_df"
   ]
  },
  {
   "cell_type": "markdown",
   "metadata": {},
   "source": [
    "## Gender Demographics\n",
    " \n",
    "* Percentage and Count of Male Players\n",
    "\n",
    "* Percentage and Count of Female Players\n",
    "\n",
    "* Percentage and Count of Other / Non-Disclosed"
   ]
  },
  {
   "cell_type": "code",
   "execution_count": 37,
   "metadata": {},
   "outputs": [],
   "source": [
    "purchases_grouped_by_gender = (purchase_data.groupby([\"gender\"]))\n",
    "\n",
    "unique_sn_by_gender = purchases_grouped_by_gender.nunique()['sn']\n",
    "\n",
    "gender_percentage = (unique_sn_by_gender/number_of_players)*100\n",
    "gender_percentage = gender_percentage.map('%{:.2f}'.format)"
   ]
  },
  {
   "cell_type": "code",
   "execution_count": 39,
   "metadata": {},
   "outputs": [
    {
     "data": {
      "text/html": [
       "<div>\n",
       "<style scoped>\n",
       "    .dataframe tbody tr th:only-of-type {\n",
       "        vertical-align: middle;\n",
       "    }\n",
       "\n",
       "    .dataframe tbody tr th {\n",
       "        vertical-align: top;\n",
       "    }\n",
       "\n",
       "    .dataframe thead th {\n",
       "        text-align: right;\n",
       "    }\n",
       "</style>\n",
       "<table border=\"1\" class=\"dataframe\">\n",
       "  <thead>\n",
       "    <tr style=\"text-align: right;\">\n",
       "      <th></th>\n",
       "      <th>Total Count</th>\n",
       "      <th>Percentage of Players</th>\n",
       "    </tr>\n",
       "    <tr>\n",
       "      <th>Gender</th>\n",
       "      <th></th>\n",
       "      <th></th>\n",
       "    </tr>\n",
       "  </thead>\n",
       "  <tbody>\n",
       "    <tr>\n",
       "      <th>Male</th>\n",
       "      <td>484</td>\n",
       "      <td>%84.03</td>\n",
       "    </tr>\n",
       "    <tr>\n",
       "      <th>Female</th>\n",
       "      <td>81</td>\n",
       "      <td>%14.06</td>\n",
       "    </tr>\n",
       "    <tr>\n",
       "      <th>Other / Non-Disclosed</th>\n",
       "      <td>11</td>\n",
       "      <td>%1.91</td>\n",
       "    </tr>\n",
       "  </tbody>\n",
       "</table>\n",
       "</div>"
      ],
      "text/plain": [
       "                       Total Count Percentage of Players\n",
       "Gender                                                  \n",
       "Male                           484                %84.03\n",
       "Female                          81                %14.06\n",
       "Other / Non-Disclosed           11                 %1.91"
      ]
     },
     "execution_count": 39,
     "metadata": {},
     "output_type": "execute_result"
    }
   ],
   "source": [
    "#create gender demographics dataframe\n",
    "gender_demographics = pd.DataFrame({\n",
    "    'Total Count': unique_sn_by_gender,\n",
    "    'Percentage of Players': gender_percentage\n",
    "})\n",
    "gender_demographics.index.name='Gender'\n",
    "gender_demographics.sort_values('Percentage of Players',ascending=False)"
   ]
  },
  {
   "cell_type": "markdown",
   "metadata": {},
   "source": [
    "## Purchasing Analysis (Gender)\n",
    " \n",
    "* Run basic calculations to obtain purchase count, avg. purchase price, avg. purchase total per person etc. by gender\n",
    "\n",
    "* Create a summary data frame to hold the results\n",
    "\n",
    "* Display the summary data frame"
   ]
  },
  {
   "cell_type": "code",
   "execution_count": 43,
   "metadata": {},
   "outputs": [],
   "source": [
    "purchase_count = purchases_grouped_by_gender['purchase_id'].count()\n",
    "\n",
    "avg_total_purchase = purchases_grouped_by_gender['price'].sum()\n",
    "\n",
    "avg_purchase_price_per_gender = purchases_grouped_by_gender['price'].mean()\n",
    "\n",
    "avg_purchase_price_per_person = avg_total_purchase/unique_sn_by_gender"
   ]
  },
  {
   "cell_type": "code",
   "execution_count": 44,
   "metadata": {},
   "outputs": [],
   "source": [
    "purchase_analysis_gender_df=pd.DataFrame({\n",
    "                    'Purchase Count': purchase_count,\n",
    "                    'Average Purchase Price': avg_purchase_price_per_gender,\n",
    "                    'Total Purchase Value': avg_total_purchase,\n",
    "                    'Average Total Purchase per Person': avg_purchase_price_per_person\n",
    "})"
   ]
  },
  {
   "cell_type": "code",
   "execution_count": 45,
   "metadata": {},
   "outputs": [
    {
     "data": {
      "text/html": [
       "<style  type=\"text/css\" >\n",
       "</style>  \n",
       "<table id=\"T_c2107362_eb91_11e9_bc50_283a4d51d376\" > \n",
       "<thead>    <tr> \n",
       "        <th class=\"blank level0\" ></th> \n",
       "        <th class=\"col_heading level0 col0\" >Purchase Count</th> \n",
       "        <th class=\"col_heading level0 col1\" >Average Purchase Price</th> \n",
       "        <th class=\"col_heading level0 col2\" >Total Purchase Value</th> \n",
       "        <th class=\"col_heading level0 col3\" >Average Total Purchase per Person</th> \n",
       "    </tr>    <tr> \n",
       "        <th class=\"index_name level0\" >Gender</th> \n",
       "        <th class=\"blank\" ></th> \n",
       "        <th class=\"blank\" ></th> \n",
       "        <th class=\"blank\" ></th> \n",
       "        <th class=\"blank\" ></th> \n",
       "    </tr></thead> \n",
       "<tbody>    <tr> \n",
       "        <th id=\"T_c2107362_eb91_11e9_bc50_283a4d51d376level0_row0\" class=\"row_heading level0 row0\" >Female</th> \n",
       "        <td id=\"T_c2107362_eb91_11e9_bc50_283a4d51d376row0_col0\" class=\"data row0 col0\" >113</td> \n",
       "        <td id=\"T_c2107362_eb91_11e9_bc50_283a4d51d376row0_col1\" class=\"data row0 col1\" >$3.20</td> \n",
       "        <td id=\"T_c2107362_eb91_11e9_bc50_283a4d51d376row0_col2\" class=\"data row0 col2\" >$361.94</td> \n",
       "        <td id=\"T_c2107362_eb91_11e9_bc50_283a4d51d376row0_col3\" class=\"data row0 col3\" >$4.47</td> \n",
       "    </tr>    <tr> \n",
       "        <th id=\"T_c2107362_eb91_11e9_bc50_283a4d51d376level0_row1\" class=\"row_heading level0 row1\" >Male</th> \n",
       "        <td id=\"T_c2107362_eb91_11e9_bc50_283a4d51d376row1_col0\" class=\"data row1 col0\" >652</td> \n",
       "        <td id=\"T_c2107362_eb91_11e9_bc50_283a4d51d376row1_col1\" class=\"data row1 col1\" >$3.02</td> \n",
       "        <td id=\"T_c2107362_eb91_11e9_bc50_283a4d51d376row1_col2\" class=\"data row1 col2\" >$1967.64</td> \n",
       "        <td id=\"T_c2107362_eb91_11e9_bc50_283a4d51d376row1_col3\" class=\"data row1 col3\" >$4.07</td> \n",
       "    </tr>    <tr> \n",
       "        <th id=\"T_c2107362_eb91_11e9_bc50_283a4d51d376level0_row2\" class=\"row_heading level0 row2\" >Other / Non-Disclosed</th> \n",
       "        <td id=\"T_c2107362_eb91_11e9_bc50_283a4d51d376row2_col0\" class=\"data row2 col0\" >15</td> \n",
       "        <td id=\"T_c2107362_eb91_11e9_bc50_283a4d51d376row2_col1\" class=\"data row2 col1\" >$3.35</td> \n",
       "        <td id=\"T_c2107362_eb91_11e9_bc50_283a4d51d376row2_col2\" class=\"data row2 col2\" >$50.19</td> \n",
       "        <td id=\"T_c2107362_eb91_11e9_bc50_283a4d51d376row2_col3\" class=\"data row2 col3\" >$4.56</td> \n",
       "    </tr></tbody> \n",
       "</table> "
      ],
      "text/plain": [
       "<pandas.io.formats.style.Styler at 0x1aed5395ef0>"
      ]
     },
     "execution_count": 45,
     "metadata": {},
     "output_type": "execute_result"
    }
   ],
   "source": [
    "purchase_analysis_gender_df_formatted = purchase_analysis_gender_df.style.format({\n",
    "                    'Average Purchase Price':'${:.2f}',\n",
    "                    'Total Purchase Value':'${:.2f}',\n",
    "                    'Average Total Purchase per Person':'${:.2f}'\n",
    "})\n",
    "purchase_analysis_gender_df_formatted"
   ]
  },
  {
   "cell_type": "markdown",
   "metadata": {},
   "source": [
    "## Age Demographics\n",
    " \n",
    "* Establish bins for ages\n",
    "\n",
    "* Categorize the existing players using the age bins\n",
    "\n",
    "* Calculate the numbers and percentages by age group\n",
    "\n",
    "* Create a summary data frame to hold the results\n",
    "\n",
    "* Display Age Demographics Table"
   ]
  },
  {
   "cell_type": "code",
   "execution_count": 55,
   "metadata": {},
   "outputs": [
    {
     "data": {
      "text/html": [
       "<div>\n",
       "<style scoped>\n",
       "    .dataframe tbody tr th:only-of-type {\n",
       "        vertical-align: middle;\n",
       "    }\n",
       "\n",
       "    .dataframe tbody tr th {\n",
       "        vertical-align: top;\n",
       "    }\n",
       "\n",
       "    .dataframe thead th {\n",
       "        text-align: right;\n",
       "    }\n",
       "</style>\n",
       "<table border=\"1\" class=\"dataframe\">\n",
       "  <thead>\n",
       "    <tr style=\"text-align: right;\">\n",
       "      <th></th>\n",
       "      <th>purchase_id</th>\n",
       "      <th>sn</th>\n",
       "      <th>age</th>\n",
       "      <th>gender</th>\n",
       "      <th>item_id</th>\n",
       "      <th>item_name</th>\n",
       "      <th>price</th>\n",
       "      <th>age_group</th>\n",
       "    </tr>\n",
       "  </thead>\n",
       "  <tbody>\n",
       "    <tr>\n",
       "      <th>0</th>\n",
       "      <td>0</td>\n",
       "      <td>Lisim78</td>\n",
       "      <td>20</td>\n",
       "      <td>Male</td>\n",
       "      <td>108</td>\n",
       "      <td>Extraction, Quickblade Of Trembling Hands</td>\n",
       "      <td>3.53</td>\n",
       "      <td>15-19</td>\n",
       "    </tr>\n",
       "    <tr>\n",
       "      <th>1</th>\n",
       "      <td>1</td>\n",
       "      <td>Lisovynya38</td>\n",
       "      <td>40</td>\n",
       "      <td>Male</td>\n",
       "      <td>143</td>\n",
       "      <td>Frenzied Scimitar</td>\n",
       "      <td>1.56</td>\n",
       "      <td>35-40</td>\n",
       "    </tr>\n",
       "    <tr>\n",
       "      <th>2</th>\n",
       "      <td>2</td>\n",
       "      <td>Ithergue48</td>\n",
       "      <td>24</td>\n",
       "      <td>Male</td>\n",
       "      <td>92</td>\n",
       "      <td>Final Critic</td>\n",
       "      <td>4.88</td>\n",
       "      <td>20-24</td>\n",
       "    </tr>\n",
       "    <tr>\n",
       "      <th>3</th>\n",
       "      <td>3</td>\n",
       "      <td>Chamassasya86</td>\n",
       "      <td>24</td>\n",
       "      <td>Male</td>\n",
       "      <td>100</td>\n",
       "      <td>Blindscythe</td>\n",
       "      <td>3.27</td>\n",
       "      <td>20-24</td>\n",
       "    </tr>\n",
       "    <tr>\n",
       "      <th>4</th>\n",
       "      <td>4</td>\n",
       "      <td>Iskosia90</td>\n",
       "      <td>23</td>\n",
       "      <td>Male</td>\n",
       "      <td>131</td>\n",
       "      <td>Fury</td>\n",
       "      <td>1.44</td>\n",
       "      <td>20-24</td>\n",
       "    </tr>\n",
       "  </tbody>\n",
       "</table>\n",
       "</div>"
      ],
      "text/plain": [
       "   purchase_id             sn  age gender  item_id  \\\n",
       "0            0        Lisim78   20   Male      108   \n",
       "1            1    Lisovynya38   40   Male      143   \n",
       "2            2     Ithergue48   24   Male       92   \n",
       "3            3  Chamassasya86   24   Male      100   \n",
       "4            4      Iskosia90   23   Male      131   \n",
       "\n",
       "                                   item_name  price age_group  \n",
       "0  Extraction, Quickblade Of Trembling Hands   3.53     15-19  \n",
       "1                          Frenzied Scimitar   1.56     35-40  \n",
       "2                               Final Critic   4.88     20-24  \n",
       "3                                Blindscythe   3.27     20-24  \n",
       "4                                       Fury   1.44     20-24  "
      ]
     },
     "execution_count": 55,
     "metadata": {},
     "output_type": "execute_result"
    }
   ],
   "source": [
    "age_bins = [0,10,15,20,25,30,35,40,999999]\n",
    "bin_names = ['<10','10-14','15-19','20-24','25-29','30-34','35-40','40+']\n",
    "\n",
    "purchase_data['age_group'] = pd.cut(purchase_data['age'],age_bins,labels=bin_names)\n",
    "purchase_data.head()"
   ]
  },
  {
   "cell_type": "code",
   "execution_count": 56,
   "metadata": {},
   "outputs": [],
   "source": [
    "age_group = purchase_data.groupby('age_group')\n",
    "\n",
    "total_count_by_age = age_group['sn'].nunique()\n",
    "\n",
    "percentage_by_age = (total_count_by_age/number_of_players)*100"
   ]
  },
  {
   "cell_type": "code",
   "execution_count": 57,
   "metadata": {},
   "outputs": [
    {
     "data": {
      "text/html": [
       "<style  type=\"text/css\" >\n",
       "</style>  \n",
       "<table id=\"T_7963b164_eb92_11e9_9d6d_283a4d51d376\" > \n",
       "<thead>    <tr> \n",
       "        <th class=\"blank level0\" ></th> \n",
       "        <th class=\"col_heading level0 col0\" >Total Count</th> \n",
       "        <th class=\"col_heading level0 col1\" >Percentage of Players</th> \n",
       "    </tr>    <tr> \n",
       "        <th class=\"index_name level0\" >age_group</th> \n",
       "        <th class=\"blank\" ></th> \n",
       "        <th class=\"blank\" ></th> \n",
       "    </tr></thead> \n",
       "<tbody>    <tr> \n",
       "        <th id=\"T_7963b164_eb92_11e9_9d6d_283a4d51d376level0_row0\" class=\"row_heading level0 row0\" ><10</th> \n",
       "        <td id=\"T_7963b164_eb92_11e9_9d6d_283a4d51d376row0_col0\" class=\"data row0 col0\" >24</td> \n",
       "        <td id=\"T_7963b164_eb92_11e9_9d6d_283a4d51d376row0_col1\" class=\"data row0 col1\" >%4.17</td> \n",
       "    </tr>    <tr> \n",
       "        <th id=\"T_7963b164_eb92_11e9_9d6d_283a4d51d376level0_row1\" class=\"row_heading level0 row1\" >10-14</th> \n",
       "        <td id=\"T_7963b164_eb92_11e9_9d6d_283a4d51d376row1_col0\" class=\"data row1 col0\" >41</td> \n",
       "        <td id=\"T_7963b164_eb92_11e9_9d6d_283a4d51d376row1_col1\" class=\"data row1 col1\" >%7.12</td> \n",
       "    </tr>    <tr> \n",
       "        <th id=\"T_7963b164_eb92_11e9_9d6d_283a4d51d376level0_row2\" class=\"row_heading level0 row2\" >15-19</th> \n",
       "        <td id=\"T_7963b164_eb92_11e9_9d6d_283a4d51d376row2_col0\" class=\"data row2 col0\" >150</td> \n",
       "        <td id=\"T_7963b164_eb92_11e9_9d6d_283a4d51d376row2_col1\" class=\"data row2 col1\" >%26.04</td> \n",
       "    </tr>    <tr> \n",
       "        <th id=\"T_7963b164_eb92_11e9_9d6d_283a4d51d376level0_row3\" class=\"row_heading level0 row3\" >20-24</th> \n",
       "        <td id=\"T_7963b164_eb92_11e9_9d6d_283a4d51d376row3_col0\" class=\"data row3 col0\" >232</td> \n",
       "        <td id=\"T_7963b164_eb92_11e9_9d6d_283a4d51d376row3_col1\" class=\"data row3 col1\" >%40.28</td> \n",
       "    </tr>    <tr> \n",
       "        <th id=\"T_7963b164_eb92_11e9_9d6d_283a4d51d376level0_row4\" class=\"row_heading level0 row4\" >25-29</th> \n",
       "        <td id=\"T_7963b164_eb92_11e9_9d6d_283a4d51d376row4_col0\" class=\"data row4 col0\" >59</td> \n",
       "        <td id=\"T_7963b164_eb92_11e9_9d6d_283a4d51d376row4_col1\" class=\"data row4 col1\" >%10.24</td> \n",
       "    </tr>    <tr> \n",
       "        <th id=\"T_7963b164_eb92_11e9_9d6d_283a4d51d376level0_row5\" class=\"row_heading level0 row5\" >30-34</th> \n",
       "        <td id=\"T_7963b164_eb92_11e9_9d6d_283a4d51d376row5_col0\" class=\"data row5 col0\" >37</td> \n",
       "        <td id=\"T_7963b164_eb92_11e9_9d6d_283a4d51d376row5_col1\" class=\"data row5 col1\" >%6.42</td> \n",
       "    </tr>    <tr> \n",
       "        <th id=\"T_7963b164_eb92_11e9_9d6d_283a4d51d376level0_row6\" class=\"row_heading level0 row6\" >35-40</th> \n",
       "        <td id=\"T_7963b164_eb92_11e9_9d6d_283a4d51d376row6_col0\" class=\"data row6 col0\" >26</td> \n",
       "        <td id=\"T_7963b164_eb92_11e9_9d6d_283a4d51d376row6_col1\" class=\"data row6 col1\" >%4.51</td> \n",
       "    </tr>    <tr> \n",
       "        <th id=\"T_7963b164_eb92_11e9_9d6d_283a4d51d376level0_row7\" class=\"row_heading level0 row7\" >40+</th> \n",
       "        <td id=\"T_7963b164_eb92_11e9_9d6d_283a4d51d376row7_col0\" class=\"data row7 col0\" >7</td> \n",
       "        <td id=\"T_7963b164_eb92_11e9_9d6d_283a4d51d376row7_col1\" class=\"data row7 col1\" >%1.22</td> \n",
       "    </tr></tbody> \n",
       "</table> "
      ],
      "text/plain": [
       "<pandas.io.formats.style.Styler at 0x1aed53d1f28>"
      ]
     },
     "execution_count": 57,
     "metadata": {},
     "output_type": "execute_result"
    }
   ],
   "source": [
    "age_demographics_df = pd.DataFrame({'Total Count': total_count_by_age,\n",
    "                                 'Percentage of Players': percentage_by_age})\n",
    "age_demographics_df = age_demographics_df.style.format({'Percentage of Players': '%{:.2f}'})\n",
    "age_demographics_df"
   ]
  },
  {
   "cell_type": "markdown",
   "metadata": {},
   "source": [
    "## Purchasing Analysis (Age)\n",
    " \n",
    "* Bin the purchase_data data frame by age\n",
    "\n",
    "* Run basic calculations to obtain purchase count, avg. purchase price, avg. purchase total per person etc. in the table below\n",
    "\n",
    "* Create a summary data frame to hold the results\n",
    "\n",
    "* Display the summary data frame"
   ]
  },
  {
   "cell_type": "code",
   "execution_count": 58,
   "metadata": {},
   "outputs": [],
   "source": [
    "#count purchases by age group\n",
    "purchase_count_by_group = age_group['purchase_id'].count()\n",
    "\n",
    "#average purchase price by age group\n",
    "avg_purchase_by_age_group = age_group['price'].mean()\n",
    "\n",
    "#total purchase value by age group\n",
    "total_purchase_value_by_group = age_group['price'].sum()\n",
    "\n",
    "#average purchase per person by age group\n",
    "avg_purchase_per_person_by_age_group = total_purchase_value_by_group/total_count_by_age"
   ]
  },
  {
   "cell_type": "code",
   "execution_count": 64,
   "metadata": {},
   "outputs": [],
   "source": [
    "purchase_analysis_age_df = pd.DataFrame({\n",
    "                                    'Purchase Count': purchase_count_by_group,\n",
    "                                    'Average Purchase Price': avg_purchase_by_age_group,\n",
    "                                    'Total Purchase Value': total_purchase_value_by_group,\n",
    "                                    'Average Purchase per Person in Age Group': avg_purchase_per_person_by_age_group\n",
    "})"
   ]
  },
  {
   "cell_type": "code",
   "execution_count": 65,
   "metadata": {},
   "outputs": [
    {
     "data": {
      "text/html": [
       "<style  type=\"text/css\" >\n",
       "</style>  \n",
       "<table id=\"T_544c36a6_eb93_11e9_b442_283a4d51d376\" > \n",
       "<thead>    <tr> \n",
       "        <th class=\"blank level0\" ></th> \n",
       "        <th class=\"col_heading level0 col0\" >Purchase Count</th> \n",
       "        <th class=\"col_heading level0 col1\" >Average Purchase Price</th> \n",
       "        <th class=\"col_heading level0 col2\" >Total Purchase Value</th> \n",
       "        <th class=\"col_heading level0 col3\" >Average Purchase per Person in Age Group</th> \n",
       "    </tr>    <tr> \n",
       "        <th class=\"index_name level0\" >age_group</th> \n",
       "        <th class=\"blank\" ></th> \n",
       "        <th class=\"blank\" ></th> \n",
       "        <th class=\"blank\" ></th> \n",
       "        <th class=\"blank\" ></th> \n",
       "    </tr></thead> \n",
       "<tbody>    <tr> \n",
       "        <th id=\"T_544c36a6_eb93_11e9_b442_283a4d51d376level0_row0\" class=\"row_heading level0 row0\" ><10</th> \n",
       "        <td id=\"T_544c36a6_eb93_11e9_b442_283a4d51d376row0_col0\" class=\"data row0 col0\" >32</td> \n",
       "        <td id=\"T_544c36a6_eb93_11e9_b442_283a4d51d376row0_col1\" class=\"data row0 col1\" >$3.40</td> \n",
       "        <td id=\"T_544c36a6_eb93_11e9_b442_283a4d51d376row0_col2\" class=\"data row0 col2\" >$108.96</td> \n",
       "        <td id=\"T_544c36a6_eb93_11e9_b442_283a4d51d376row0_col3\" class=\"data row0 col3\" >$4.54</td> \n",
       "    </tr>    <tr> \n",
       "        <th id=\"T_544c36a6_eb93_11e9_b442_283a4d51d376level0_row1\" class=\"row_heading level0 row1\" >10-14</th> \n",
       "        <td id=\"T_544c36a6_eb93_11e9_b442_283a4d51d376row1_col0\" class=\"data row1 col0\" >54</td> \n",
       "        <td id=\"T_544c36a6_eb93_11e9_b442_283a4d51d376row1_col1\" class=\"data row1 col1\" >$2.90</td> \n",
       "        <td id=\"T_544c36a6_eb93_11e9_b442_283a4d51d376row1_col2\" class=\"data row1 col2\" >$156.60</td> \n",
       "        <td id=\"T_544c36a6_eb93_11e9_b442_283a4d51d376row1_col3\" class=\"data row1 col3\" >$3.82</td> \n",
       "    </tr>    <tr> \n",
       "        <th id=\"T_544c36a6_eb93_11e9_b442_283a4d51d376level0_row2\" class=\"row_heading level0 row2\" >15-19</th> \n",
       "        <td id=\"T_544c36a6_eb93_11e9_b442_283a4d51d376row2_col0\" class=\"data row2 col0\" >200</td> \n",
       "        <td id=\"T_544c36a6_eb93_11e9_b442_283a4d51d376row2_col1\" class=\"data row2 col1\" >$3.11</td> \n",
       "        <td id=\"T_544c36a6_eb93_11e9_b442_283a4d51d376row2_col2\" class=\"data row2 col2\" >$621.56</td> \n",
       "        <td id=\"T_544c36a6_eb93_11e9_b442_283a4d51d376row2_col3\" class=\"data row2 col3\" >$4.14</td> \n",
       "    </tr>    <tr> \n",
       "        <th id=\"T_544c36a6_eb93_11e9_b442_283a4d51d376level0_row3\" class=\"row_heading level0 row3\" >20-24</th> \n",
       "        <td id=\"T_544c36a6_eb93_11e9_b442_283a4d51d376row3_col0\" class=\"data row3 col0\" >325</td> \n",
       "        <td id=\"T_544c36a6_eb93_11e9_b442_283a4d51d376row3_col1\" class=\"data row3 col1\" >$3.02</td> \n",
       "        <td id=\"T_544c36a6_eb93_11e9_b442_283a4d51d376row3_col2\" class=\"data row3 col2\" >$981.64</td> \n",
       "        <td id=\"T_544c36a6_eb93_11e9_b442_283a4d51d376row3_col3\" class=\"data row3 col3\" >$4.23</td> \n",
       "    </tr>    <tr> \n",
       "        <th id=\"T_544c36a6_eb93_11e9_b442_283a4d51d376level0_row4\" class=\"row_heading level0 row4\" >25-29</th> \n",
       "        <td id=\"T_544c36a6_eb93_11e9_b442_283a4d51d376row4_col0\" class=\"data row4 col0\" >77</td> \n",
       "        <td id=\"T_544c36a6_eb93_11e9_b442_283a4d51d376row4_col1\" class=\"data row4 col1\" >$2.88</td> \n",
       "        <td id=\"T_544c36a6_eb93_11e9_b442_283a4d51d376row4_col2\" class=\"data row4 col2\" >$221.42</td> \n",
       "        <td id=\"T_544c36a6_eb93_11e9_b442_283a4d51d376row4_col3\" class=\"data row4 col3\" >$3.75</td> \n",
       "    </tr>    <tr> \n",
       "        <th id=\"T_544c36a6_eb93_11e9_b442_283a4d51d376level0_row5\" class=\"row_heading level0 row5\" >30-34</th> \n",
       "        <td id=\"T_544c36a6_eb93_11e9_b442_283a4d51d376row5_col0\" class=\"data row5 col0\" >52</td> \n",
       "        <td id=\"T_544c36a6_eb93_11e9_b442_283a4d51d376row5_col1\" class=\"data row5 col1\" >$2.99</td> \n",
       "        <td id=\"T_544c36a6_eb93_11e9_b442_283a4d51d376row5_col2\" class=\"data row5 col2\" >$155.71</td> \n",
       "        <td id=\"T_544c36a6_eb93_11e9_b442_283a4d51d376row5_col3\" class=\"data row5 col3\" >$4.21</td> \n",
       "    </tr>    <tr> \n",
       "        <th id=\"T_544c36a6_eb93_11e9_b442_283a4d51d376level0_row6\" class=\"row_heading level0 row6\" >35-40</th> \n",
       "        <td id=\"T_544c36a6_eb93_11e9_b442_283a4d51d376row6_col0\" class=\"data row6 col0\" >33</td> \n",
       "        <td id=\"T_544c36a6_eb93_11e9_b442_283a4d51d376row6_col1\" class=\"data row6 col1\" >$3.40</td> \n",
       "        <td id=\"T_544c36a6_eb93_11e9_b442_283a4d51d376row6_col2\" class=\"data row6 col2\" >$112.35</td> \n",
       "        <td id=\"T_544c36a6_eb93_11e9_b442_283a4d51d376row6_col3\" class=\"data row6 col3\" >$4.32</td> \n",
       "    </tr>    <tr> \n",
       "        <th id=\"T_544c36a6_eb93_11e9_b442_283a4d51d376level0_row7\" class=\"row_heading level0 row7\" >40+</th> \n",
       "        <td id=\"T_544c36a6_eb93_11e9_b442_283a4d51d376row7_col0\" class=\"data row7 col0\" >7</td> \n",
       "        <td id=\"T_544c36a6_eb93_11e9_b442_283a4d51d376row7_col1\" class=\"data row7 col1\" >$3.08</td> \n",
       "        <td id=\"T_544c36a6_eb93_11e9_b442_283a4d51d376row7_col2\" class=\"data row7 col2\" >$21.53</td> \n",
       "        <td id=\"T_544c36a6_eb93_11e9_b442_283a4d51d376row7_col3\" class=\"data row7 col3\" >$3.08</td> \n",
       "    </tr></tbody> \n",
       "</table> "
      ],
      "text/plain": [
       "<pandas.io.formats.style.Styler at 0x1aed53dff60>"
      ]
     },
     "execution_count": 65,
     "metadata": {},
     "output_type": "execute_result"
    }
   ],
   "source": [
    "purchase_analysis_age_df = purchase_analysis_age_df.style.format({'Average Purchase Price':'${:.2f}',\n",
    "                                                          'Total Purchase Value': '${:.2f}',\n",
    "                                                          'Average Purchase per Person in Age Group':'${:.2f}'})\n",
    "\n",
    "\n",
    "purchase_analysis_age_df"
   ]
  },
  {
   "cell_type": "markdown",
   "metadata": {},
   "source": [
    "## Top Spenders\n",
    " \n",
    "* Run basic calculations to obtain the results in the table below\n",
    "\n",
    "* Create a summary data frame to hold the results\n",
    "\n",
    "* Sort the total purchase value column in descending order\n",
    "\n",
    "* Display a preview of the summary data frame"
   ]
  },
  {
   "cell_type": "code",
   "execution_count": 66,
   "metadata": {},
   "outputs": [],
   "source": [
    "#Identify top spenders by total purchase value\n",
    "purchases_by_sn = purchase_data.groupby('sn')\n",
    "\n",
    "#get total purchases by ID\n",
    "purchase_id_count = purchases_by_sn['purchase_id'].count()\n",
    "\n",
    "#get average purchase by ID\n",
    "avg_purchase_price_by_sn = purchases_by_sn['price'].mean()\n",
    "\n",
    "#get total purchase\n",
    "total_purchase_by_sn = purchases_by_sn['price'].sum()"
   ]
  },
  {
   "cell_type": "code",
   "execution_count": 67,
   "metadata": {},
   "outputs": [],
   "source": [
    "#create top spenders dataframe\n",
    "top_spenders_df = pd.DataFrame({\n",
    "                                'Purchase Count': purchase_id_count,\n",
    "                                'Average Purchase Price': avg_purchase_price_by_sn,\n",
    "                                'Total Purchase Value': total_purchase_by_sn\n",
    "})"
   ]
  },
  {
   "cell_type": "code",
   "execution_count": 68,
   "metadata": {},
   "outputs": [
    {
     "data": {
      "text/html": [
       "<style  type=\"text/css\" >\n",
       "</style>  \n",
       "<table id=\"T_a3759b66_eb93_11e9_9376_283a4d51d376\" > \n",
       "<thead>    <tr> \n",
       "        <th class=\"blank level0\" ></th> \n",
       "        <th class=\"col_heading level0 col0\" >Purchase Count</th> \n",
       "        <th class=\"col_heading level0 col1\" >Average Purchase Price</th> \n",
       "        <th class=\"col_heading level0 col2\" >Total Purchase Value</th> \n",
       "    </tr>    <tr> \n",
       "        <th class=\"index_name level0\" >sn</th> \n",
       "        <th class=\"blank\" ></th> \n",
       "        <th class=\"blank\" ></th> \n",
       "        <th class=\"blank\" ></th> \n",
       "    </tr></thead> \n",
       "<tbody>    <tr> \n",
       "        <th id=\"T_a3759b66_eb93_11e9_9376_283a4d51d376level0_row0\" class=\"row_heading level0 row0\" >Lisosia93</th> \n",
       "        <td id=\"T_a3759b66_eb93_11e9_9376_283a4d51d376row0_col0\" class=\"data row0 col0\" >5</td> \n",
       "        <td id=\"T_a3759b66_eb93_11e9_9376_283a4d51d376row0_col1\" class=\"data row0 col1\" >$3.79</td> \n",
       "        <td id=\"T_a3759b66_eb93_11e9_9376_283a4d51d376row0_col2\" class=\"data row0 col2\" >$18.96</td> \n",
       "    </tr>    <tr> \n",
       "        <th id=\"T_a3759b66_eb93_11e9_9376_283a4d51d376level0_row1\" class=\"row_heading level0 row1\" >Idastidru52</th> \n",
       "        <td id=\"T_a3759b66_eb93_11e9_9376_283a4d51d376row1_col0\" class=\"data row1 col0\" >4</td> \n",
       "        <td id=\"T_a3759b66_eb93_11e9_9376_283a4d51d376row1_col1\" class=\"data row1 col1\" >$3.86</td> \n",
       "        <td id=\"T_a3759b66_eb93_11e9_9376_283a4d51d376row1_col2\" class=\"data row1 col2\" >$15.45</td> \n",
       "    </tr>    <tr> \n",
       "        <th id=\"T_a3759b66_eb93_11e9_9376_283a4d51d376level0_row2\" class=\"row_heading level0 row2\" >Chamjask73</th> \n",
       "        <td id=\"T_a3759b66_eb93_11e9_9376_283a4d51d376row2_col0\" class=\"data row2 col0\" >3</td> \n",
       "        <td id=\"T_a3759b66_eb93_11e9_9376_283a4d51d376row2_col1\" class=\"data row2 col1\" >$4.61</td> \n",
       "        <td id=\"T_a3759b66_eb93_11e9_9376_283a4d51d376row2_col2\" class=\"data row2 col2\" >$13.83</td> \n",
       "    </tr>    <tr> \n",
       "        <th id=\"T_a3759b66_eb93_11e9_9376_283a4d51d376level0_row3\" class=\"row_heading level0 row3\" >Iral74</th> \n",
       "        <td id=\"T_a3759b66_eb93_11e9_9376_283a4d51d376row3_col0\" class=\"data row3 col0\" >4</td> \n",
       "        <td id=\"T_a3759b66_eb93_11e9_9376_283a4d51d376row3_col1\" class=\"data row3 col1\" >$3.40</td> \n",
       "        <td id=\"T_a3759b66_eb93_11e9_9376_283a4d51d376row3_col2\" class=\"data row3 col2\" >$13.62</td> \n",
       "    </tr>    <tr> \n",
       "        <th id=\"T_a3759b66_eb93_11e9_9376_283a4d51d376level0_row4\" class=\"row_heading level0 row4\" >Iskadarya95</th> \n",
       "        <td id=\"T_a3759b66_eb93_11e9_9376_283a4d51d376row4_col0\" class=\"data row4 col0\" >3</td> \n",
       "        <td id=\"T_a3759b66_eb93_11e9_9376_283a4d51d376row4_col1\" class=\"data row4 col1\" >$4.37</td> \n",
       "        <td id=\"T_a3759b66_eb93_11e9_9376_283a4d51d376row4_col2\" class=\"data row4 col2\" >$13.10</td> \n",
       "    </tr></tbody> \n",
       "</table> "
      ],
      "text/plain": [
       "<pandas.io.formats.style.Styler at 0x1aed53d8dd8>"
      ]
     },
     "execution_count": 68,
     "metadata": {},
     "output_type": "execute_result"
    }
   ],
   "source": [
    "#format top spenders dataframe to show top spenders by total purchase value in descending order\n",
    "top_spenders_df_formatted = top_spenders_df.sort_values(['Total Purchase Value'],ascending=False).head()\n",
    "\n",
    "top_spenders_df_formatted.style.format({\n",
    "                                        'Average Purchase Price':'${:.2f}',\n",
    "                                        'Total Purchase Value':'${:.2f}'\n",
    "})"
   ]
  },
  {
   "cell_type": "markdown",
   "metadata": {},
   "source": [
    "## Most Popular Items\n",
    " \n",
    "* Retrieve the Item ID, Item Name, and Item Price columns\n",
    "\n",
    "* Group by Item ID and Item Name. Perform calculations to obtain purchase count, item price, and total purchase value\n",
    "\n",
    "* Create a summary data frame to hold the results\n",
    "\n",
    "* Sort the purchase count column in descending order\n",
    "\n",
    "* Display a preview of the summary data frame"
   ]
  },
  {
   "cell_type": "code",
   "execution_count": 71,
   "metadata": {},
   "outputs": [
    {
     "data": {
      "text/html": [
       "<div>\n",
       "<style scoped>\n",
       "    .dataframe tbody tr th:only-of-type {\n",
       "        vertical-align: middle;\n",
       "    }\n",
       "\n",
       "    .dataframe tbody tr th {\n",
       "        vertical-align: top;\n",
       "    }\n",
       "\n",
       "    .dataframe thead th {\n",
       "        text-align: right;\n",
       "    }\n",
       "</style>\n",
       "<table border=\"1\" class=\"dataframe\">\n",
       "  <thead>\n",
       "    <tr style=\"text-align: right;\">\n",
       "      <th></th>\n",
       "      <th>item_id</th>\n",
       "      <th>item_name</th>\n",
       "      <th>price</th>\n",
       "    </tr>\n",
       "  </thead>\n",
       "  <tbody>\n",
       "    <tr>\n",
       "      <th>0</th>\n",
       "      <td>108</td>\n",
       "      <td>Extraction, Quickblade Of Trembling Hands</td>\n",
       "      <td>3.53</td>\n",
       "    </tr>\n",
       "    <tr>\n",
       "      <th>1</th>\n",
       "      <td>143</td>\n",
       "      <td>Frenzied Scimitar</td>\n",
       "      <td>1.56</td>\n",
       "    </tr>\n",
       "    <tr>\n",
       "      <th>2</th>\n",
       "      <td>92</td>\n",
       "      <td>Final Critic</td>\n",
       "      <td>4.88</td>\n",
       "    </tr>\n",
       "    <tr>\n",
       "      <th>3</th>\n",
       "      <td>100</td>\n",
       "      <td>Blindscythe</td>\n",
       "      <td>3.27</td>\n",
       "    </tr>\n",
       "    <tr>\n",
       "      <th>4</th>\n",
       "      <td>131</td>\n",
       "      <td>Fury</td>\n",
       "      <td>1.44</td>\n",
       "    </tr>\n",
       "  </tbody>\n",
       "</table>\n",
       "</div>"
      ],
      "text/plain": [
       "   item_id                                  item_name  price\n",
       "0      108  Extraction, Quickblade Of Trembling Hands   3.53\n",
       "1      143                          Frenzied Scimitar   1.56\n",
       "2       92                               Final Critic   4.88\n",
       "3      100                                Blindscythe   3.27\n",
       "4      131                                       Fury   1.44"
      ]
     },
     "execution_count": 71,
     "metadata": {},
     "output_type": "execute_result"
    }
   ],
   "source": [
    "#create new dataframe with Item ID, Item Name, and Item Price\n",
    "items_df = purchase_data[['item_id','item_name','price']]\n",
    "items_df.head()"
   ]
  },
  {
   "cell_type": "code",
   "execution_count": 72,
   "metadata": {},
   "outputs": [],
   "source": [
    "item_group = items_df.groupby(['item_id','item_name'])\n",
    "\n",
    "#count how many times an item id has been purchased\n",
    "purchase_count_items = item_group['item_id'].count()\n",
    "\n",
    "#get purchase value per item id\n",
    "purchase_value_items = item_group['price'].sum()\n",
    "\n",
    "#find individual item price\n",
    "item_price = purchase_value_items/purchase_count_items"
   ]
  },
  {
   "cell_type": "code",
   "execution_count": 73,
   "metadata": {},
   "outputs": [],
   "source": [
    "#create most popular items data frame and sort by purchase count\n",
    "most_popular_items_df = pd.DataFrame({\n",
    "                                    'Purchase Count': purchase_count_items,\n",
    "                                    'Item Price': item_price,\n",
    "                                    'Total Purchase Value': purchase_value_items\n",
    "})\n",
    "most_popular_items_df_sorted = most_popular_items_df.sort_values('Purchase Count',ascending=False).head()"
   ]
  },
  {
   "cell_type": "code",
   "execution_count": 74,
   "metadata": {},
   "outputs": [
    {
     "data": {
      "text/html": [
       "<style  type=\"text/css\" >\n",
       "</style>  \n",
       "<table id=\"T_1d5958a8_eb94_11e9_aad8_283a4d51d376\" > \n",
       "<thead>    <tr> \n",
       "        <th class=\"blank\" ></th> \n",
       "        <th class=\"blank level0\" ></th> \n",
       "        <th class=\"col_heading level0 col0\" >Purchase Count</th> \n",
       "        <th class=\"col_heading level0 col1\" >Item Price</th> \n",
       "        <th class=\"col_heading level0 col2\" >Total Purchase Value</th> \n",
       "    </tr>    <tr> \n",
       "        <th class=\"index_name level0\" >item_id</th> \n",
       "        <th class=\"index_name level1\" >item_name</th> \n",
       "        <th class=\"blank\" ></th> \n",
       "        <th class=\"blank\" ></th> \n",
       "        <th class=\"blank\" ></th> \n",
       "    </tr></thead> \n",
       "<tbody>    <tr> \n",
       "        <th id=\"T_1d5958a8_eb94_11e9_aad8_283a4d51d376level0_row0\" class=\"row_heading level0 row0\" >178</th> \n",
       "        <th id=\"T_1d5958a8_eb94_11e9_aad8_283a4d51d376level1_row0\" class=\"row_heading level1 row0\" >Oathbreaker, Last Hope of the Breaking Storm</th> \n",
       "        <td id=\"T_1d5958a8_eb94_11e9_aad8_283a4d51d376row0_col0\" class=\"data row0 col0\" >12</td> \n",
       "        <td id=\"T_1d5958a8_eb94_11e9_aad8_283a4d51d376row0_col1\" class=\"data row0 col1\" >$4.23</td> \n",
       "        <td id=\"T_1d5958a8_eb94_11e9_aad8_283a4d51d376row0_col2\" class=\"data row0 col2\" >$50.76</td> \n",
       "    </tr>    <tr> \n",
       "        <th id=\"T_1d5958a8_eb94_11e9_aad8_283a4d51d376level0_row1\" class=\"row_heading level0 row1\" >145</th> \n",
       "        <th id=\"T_1d5958a8_eb94_11e9_aad8_283a4d51d376level1_row1\" class=\"row_heading level1 row1\" >Fiery Glass Crusader</th> \n",
       "        <td id=\"T_1d5958a8_eb94_11e9_aad8_283a4d51d376row1_col0\" class=\"data row1 col0\" >9</td> \n",
       "        <td id=\"T_1d5958a8_eb94_11e9_aad8_283a4d51d376row1_col1\" class=\"data row1 col1\" >$4.58</td> \n",
       "        <td id=\"T_1d5958a8_eb94_11e9_aad8_283a4d51d376row1_col2\" class=\"data row1 col2\" >$41.22</td> \n",
       "    </tr>    <tr> \n",
       "        <th id=\"T_1d5958a8_eb94_11e9_aad8_283a4d51d376level0_row2\" class=\"row_heading level0 row2\" >108</th> \n",
       "        <th id=\"T_1d5958a8_eb94_11e9_aad8_283a4d51d376level1_row2\" class=\"row_heading level1 row2\" >Extraction, Quickblade Of Trembling Hands</th> \n",
       "        <td id=\"T_1d5958a8_eb94_11e9_aad8_283a4d51d376row2_col0\" class=\"data row2 col0\" >9</td> \n",
       "        <td id=\"T_1d5958a8_eb94_11e9_aad8_283a4d51d376row2_col1\" class=\"data row2 col1\" >$3.53</td> \n",
       "        <td id=\"T_1d5958a8_eb94_11e9_aad8_283a4d51d376row2_col2\" class=\"data row2 col2\" >$31.77</td> \n",
       "    </tr>    <tr> \n",
       "        <th id=\"T_1d5958a8_eb94_11e9_aad8_283a4d51d376level0_row3\" class=\"row_heading level0 row3\" >82</th> \n",
       "        <th id=\"T_1d5958a8_eb94_11e9_aad8_283a4d51d376level1_row3\" class=\"row_heading level1 row3\" >Nirvana</th> \n",
       "        <td id=\"T_1d5958a8_eb94_11e9_aad8_283a4d51d376row3_col0\" class=\"data row3 col0\" >9</td> \n",
       "        <td id=\"T_1d5958a8_eb94_11e9_aad8_283a4d51d376row3_col1\" class=\"data row3 col1\" >$4.90</td> \n",
       "        <td id=\"T_1d5958a8_eb94_11e9_aad8_283a4d51d376row3_col2\" class=\"data row3 col2\" >$44.10</td> \n",
       "    </tr>    <tr> \n",
       "        <th id=\"T_1d5958a8_eb94_11e9_aad8_283a4d51d376level0_row4\" class=\"row_heading level0 row4\" >19</th> \n",
       "        <th id=\"T_1d5958a8_eb94_11e9_aad8_283a4d51d376level1_row4\" class=\"row_heading level1 row4\" >Pursuit, Cudgel of Necromancy</th> \n",
       "        <td id=\"T_1d5958a8_eb94_11e9_aad8_283a4d51d376row4_col0\" class=\"data row4 col0\" >8</td> \n",
       "        <td id=\"T_1d5958a8_eb94_11e9_aad8_283a4d51d376row4_col1\" class=\"data row4 col1\" >$1.02</td> \n",
       "        <td id=\"T_1d5958a8_eb94_11e9_aad8_283a4d51d376row4_col2\" class=\"data row4 col2\" >$8.16</td> \n",
       "    </tr></tbody> \n",
       "</table> "
      ],
      "text/plain": [
       "<pandas.io.formats.style.Styler at 0x1aed53fae48>"
      ]
     },
     "execution_count": 74,
     "metadata": {},
     "output_type": "execute_result"
    }
   ],
   "source": [
    "#format dataframe\n",
    "most_popular_items_df_formatted = most_popular_items_df_sorted.style.format({\n",
    "                                        'Item Price':'${:.2f}',\n",
    "                                        'Total Purchase Value': '${:.2f}'\n",
    "})\n",
    "most_popular_items_df_formatted"
   ]
  },
  {
   "cell_type": "markdown",
   "metadata": {},
   "source": [
    "## Most Profitable Items\n",
    " \n",
    "* Sort the above table by total purchase value in descending order\n",
    "\n",
    "* Display a preview of the data frame"
   ]
  },
  {
   "cell_type": "code",
   "execution_count": 75,
   "metadata": {},
   "outputs": [
    {
     "data": {
      "text/html": [
       "<style  type=\"text/css\" >\n",
       "</style>  \n",
       "<table id=\"T_3fb66bf4_eb94_11e9_b926_283a4d51d376\" > \n",
       "<thead>    <tr> \n",
       "        <th class=\"blank\" ></th> \n",
       "        <th class=\"blank level0\" ></th> \n",
       "        <th class=\"col_heading level0 col0\" >Purchase Count</th> \n",
       "        <th class=\"col_heading level0 col1\" >Item Price</th> \n",
       "        <th class=\"col_heading level0 col2\" >Total Purchase Value</th> \n",
       "    </tr>    <tr> \n",
       "        <th class=\"index_name level0\" >item_id</th> \n",
       "        <th class=\"index_name level1\" >item_name</th> \n",
       "        <th class=\"blank\" ></th> \n",
       "        <th class=\"blank\" ></th> \n",
       "        <th class=\"blank\" ></th> \n",
       "    </tr></thead> \n",
       "<tbody>    <tr> \n",
       "        <th id=\"T_3fb66bf4_eb94_11e9_b926_283a4d51d376level0_row0\" class=\"row_heading level0 row0\" >178</th> \n",
       "        <th id=\"T_3fb66bf4_eb94_11e9_b926_283a4d51d376level1_row0\" class=\"row_heading level1 row0\" >Oathbreaker, Last Hope of the Breaking Storm</th> \n",
       "        <td id=\"T_3fb66bf4_eb94_11e9_b926_283a4d51d376row0_col0\" class=\"data row0 col0\" >12</td> \n",
       "        <td id=\"T_3fb66bf4_eb94_11e9_b926_283a4d51d376row0_col1\" class=\"data row0 col1\" >$4.23</td> \n",
       "        <td id=\"T_3fb66bf4_eb94_11e9_b926_283a4d51d376row0_col2\" class=\"data row0 col2\" >$50.76</td> \n",
       "    </tr>    <tr> \n",
       "        <th id=\"T_3fb66bf4_eb94_11e9_b926_283a4d51d376level0_row1\" class=\"row_heading level0 row1\" >82</th> \n",
       "        <th id=\"T_3fb66bf4_eb94_11e9_b926_283a4d51d376level1_row1\" class=\"row_heading level1 row1\" >Nirvana</th> \n",
       "        <td id=\"T_3fb66bf4_eb94_11e9_b926_283a4d51d376row1_col0\" class=\"data row1 col0\" >9</td> \n",
       "        <td id=\"T_3fb66bf4_eb94_11e9_b926_283a4d51d376row1_col1\" class=\"data row1 col1\" >$4.90</td> \n",
       "        <td id=\"T_3fb66bf4_eb94_11e9_b926_283a4d51d376row1_col2\" class=\"data row1 col2\" >$44.10</td> \n",
       "    </tr>    <tr> \n",
       "        <th id=\"T_3fb66bf4_eb94_11e9_b926_283a4d51d376level0_row2\" class=\"row_heading level0 row2\" >145</th> \n",
       "        <th id=\"T_3fb66bf4_eb94_11e9_b926_283a4d51d376level1_row2\" class=\"row_heading level1 row2\" >Fiery Glass Crusader</th> \n",
       "        <td id=\"T_3fb66bf4_eb94_11e9_b926_283a4d51d376row2_col0\" class=\"data row2 col0\" >9</td> \n",
       "        <td id=\"T_3fb66bf4_eb94_11e9_b926_283a4d51d376row2_col1\" class=\"data row2 col1\" >$4.58</td> \n",
       "        <td id=\"T_3fb66bf4_eb94_11e9_b926_283a4d51d376row2_col2\" class=\"data row2 col2\" >$41.22</td> \n",
       "    </tr>    <tr> \n",
       "        <th id=\"T_3fb66bf4_eb94_11e9_b926_283a4d51d376level0_row3\" class=\"row_heading level0 row3\" >92</th> \n",
       "        <th id=\"T_3fb66bf4_eb94_11e9_b926_283a4d51d376level1_row3\" class=\"row_heading level1 row3\" >Final Critic</th> \n",
       "        <td id=\"T_3fb66bf4_eb94_11e9_b926_283a4d51d376row3_col0\" class=\"data row3 col0\" >8</td> \n",
       "        <td id=\"T_3fb66bf4_eb94_11e9_b926_283a4d51d376row3_col1\" class=\"data row3 col1\" >$4.88</td> \n",
       "        <td id=\"T_3fb66bf4_eb94_11e9_b926_283a4d51d376row3_col2\" class=\"data row3 col2\" >$39.04</td> \n",
       "    </tr>    <tr> \n",
       "        <th id=\"T_3fb66bf4_eb94_11e9_b926_283a4d51d376level0_row4\" class=\"row_heading level0 row4\" >103</th> \n",
       "        <th id=\"T_3fb66bf4_eb94_11e9_b926_283a4d51d376level1_row4\" class=\"row_heading level1 row4\" >Singed Scalpel</th> \n",
       "        <td id=\"T_3fb66bf4_eb94_11e9_b926_283a4d51d376row4_col0\" class=\"data row4 col0\" >8</td> \n",
       "        <td id=\"T_3fb66bf4_eb94_11e9_b926_283a4d51d376row4_col1\" class=\"data row4 col1\" >$4.35</td> \n",
       "        <td id=\"T_3fb66bf4_eb94_11e9_b926_283a4d51d376row4_col2\" class=\"data row4 col2\" >$34.80</td> \n",
       "    </tr></tbody> \n",
       "</table> "
      ],
      "text/plain": [
       "<pandas.io.formats.style.Styler at 0x1aed5440198>"
      ]
     },
     "execution_count": 75,
     "metadata": {},
     "output_type": "execute_result"
    }
   ],
   "source": [
    "#sort most profitable items df by total purchase value\n",
    "most_profitable = most_popular_items_df.sort_values('Total Purchase Value',ascending=False).head()\n",
    "most_profitable.style.format({\n",
    "                            'Item Price':'${:.2f}',\n",
    "                            'Total Purchase Value':'${:.2f}'\n",
    "})"
   ]
  },
  {
   "cell_type": "code",
   "execution_count": null,
   "metadata": {},
   "outputs": [],
   "source": []
  }
 ],
 "metadata": {
  "kernelspec": {
   "display_name": "Python 3",
   "language": "python",
   "name": "python3"
  },
  "language_info": {
   "codemirror_mode": {
    "name": "ipython",
    "version": 3
   },
   "file_extension": ".py",
   "mimetype": "text/x-python",
   "name": "python",
   "nbconvert_exporter": "python",
   "pygments_lexer": "ipython3",
   "version": "3.7.0"
  }
 },
 "nbformat": 4,
 "nbformat_minor": 2
}
